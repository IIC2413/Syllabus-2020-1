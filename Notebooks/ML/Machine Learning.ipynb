{
 "cells": [
  {
   "cell_type": "markdown",
   "metadata": {},
   "source": [
    "# Un poco de Machine Learning\n",
    "\n",
    "Ahora vamos a ver como utilizar todo lo que hemos aprendido hasta ahora para hacer un programa de *Machine Learning*. Primero que nada, recordemos que este programa va a **aprender** de datos ya existentes para hacer **predicciones** sobre datos que no conoce. Pensemos en un ejemplo simple: una regresión lineal. Imaginemos que tenemos un *dataset* muy sencillo:\n",
    "\n",
    "> Para ciertos timestamps de una partida de Age of Empires de Adrián, tenemos el número de aldeanos inactivos de su civilización.\n",
    "\n",
    "Este dataset se puede graficar en un plano, en donde en el eje $X$ tenemos los minutos de juego y en el eje $Y$ el número de aldeanos inactivos. Cuando hacemos una regresión lineal, lo que deseamos es conocerla recta que pasa lo más cerca posible de un conjunto de puntos como se muestra en la imagen a continuación:\n",
    "\n",
    "<img src=\"img/linear_regression.png\" alt=\"Regresión Lineal\" style=\"width: 30%;\"/>\n",
    "\n",
    "Ahora, ¿para qué nos sirve esto? Efectivamente, ahora podremos predecir para cierto *timestamp* que no conozcamos, el número de aldeanos inactivos de la civilazión de Adrián. La idea intrínseca es que nuestro programa **aprendió** de datos conocidos y ahora puede hacer **predicciones** de datos que no conoce. Lo que recibe como *input* es el tiempo de juego y lo que queremos predecir es el número de aldeanos inactivos.\n",
    "\n",
    "En este caso queremos predecir un valor numérico en donde difícilmente nuestras predicciones nos van a dar el valor exacto, pero si un muy buen aproximado. Esta clase de tareas se llaman **Regresiones**.\n",
    "Sin embargo, una de las tareas más famosas delegadas a los algoritmos de *Machine Learning* son las tareas de **Clasificación**. En estas tareas, los algoritmos al recibir un *input* predicen una clase para ese *input*. El ejemplo más clásico es entrenar un clasificador de *spam* para el correo. Este sería un clasificador binario, ya que si le mostramos un correo el programa puede dar dos opciones: **Sí, es spam** o **No, no es spam**. En este caso, las clases serían **spam** y **no spam**.\n",
    "Sin embargo, un *input* puede caer en más de dos categorías. Un ejemplo clásico es clasificar dígitos escritos a mano. en este caso, al mostrarle un dígito el programa lo clasificará en alguna de las 10 clases, donde cada una corresponde a un dígito entre el 0 y el 9.\n",
    "\n",
    "Ojo que en todos estos ejemplos el programa probablemente aprenderá con ejemplos en los que ya conoce la respuesta:\n",
    "\n",
    "- Para la regresión lineal, para todos los timestamp vienen acompañados del número de aldeanos.\n",
    "- Para el clasificador de *spam*, necesitaremos mostrarle al programa muchos correos, varios de ellos serán *spam* y varios no.\n",
    "- Para el detector de dígitos, necesitamos mostrar muchos ejemplos de números escritos a mano y decirle al programa que número es.\n",
    "\n",
    "Cuando el programa aprende de ejemplos donde ya conoce la respuesta, le llamamos aprendizaje **Supervisado**. Existe el aprendizaje No Supervisado, pero eso va mucho más allá del *scope* de cosas que queremos enseñar hoy. \n",
    "\n",
    "La idea de esta clase es usar la librería `scikit learn` de Python para entrenar y usar un modelo de *Machine Learning*. Así, al final de esta clase aprenderás a:\n",
    "\n",
    "- Explorar datos que utilizarás para entrenar y probar un programa de *Machine Learning*.\n",
    "- Entrenar un modelo utilizando `scikit learn`.\n",
    "- Medir lo acertado que es tu modelo.\n",
    "- Utilizar tu modelo para futuras predicciones.\n",
    "\n",
    "Recuerda instalar `scikit-learn` utilizando `pip`:\n",
    "\n",
    "```\n",
    "pip install -U scikit-learn\n",
    "```"
   ]
  },
  {
   "cell_type": "markdown",
   "metadata": {},
   "source": [
    "## Los datos\n",
    "\n",
    "Para esta actividad vamos a usar el *Iris flower dataset*, que habla sobre flores del género Iris. El *dataset* contiene 50 muestras de cada una de tres especies de Iris (Setosa, Virginica y Versicolor). Se midió cuatro rasgos de cada muestra: el largo y ancho del sépalo y pétalo, en centímetros. Lo que haremos en esta actividad será **predecir el largo del sépalo de la especie Iris Setosa**. Para partir vamos a ver una imagen de la Iris Setosa:\n",
    "\n",
    "<img src=\"img/setosa.jpeg\" alt=\"Iris Setosa\" style=\"width: 20%;\"/>\n",
    "\n",
    "\n",
    "El *dataset* viene incluido en `scikit-learn`. Este contiene en la key `data` un arreglo de 4 columnas con el largo y ancho de sépalos y pétalos. Además se indica en bajo la key `target` el tipo de cada una de las flores:"
   ]
  },
  {
   "cell_type": "code",
   "execution_count": 1,
   "metadata": {},
   "outputs": [
    {
     "data": {
      "text/plain": [
       "dict_keys(['data', 'target', 'frame', 'target_names', 'DESCR', 'feature_names', 'filename'])"
      ]
     },
     "execution_count": 1,
     "metadata": {},
     "output_type": "execute_result"
    }
   ],
   "source": [
    "from sklearn import datasets\n",
    "\n",
    "iris = datasets.load_iris()\n",
    "iris.keys()"
   ]
  },
  {
   "cell_type": "markdown",
   "metadata": {},
   "source": [
    "El *dataset* contiene varias llaves, así que vamos a partir mostrando lo que contiene `data`:"
   ]
  },
  {
   "cell_type": "code",
   "execution_count": 2,
   "metadata": {},
   "outputs": [
    {
     "data": {
      "text/plain": [
       "array([[5.1, 3.5, 1.4, 0.2],\n",
       "       [4.9, 3. , 1.4, 0.2],\n",
       "       [4.7, 3.2, 1.3, 0.2],\n",
       "       [4.6, 3.1, 1.5, 0.2],\n",
       "       [5. , 3.6, 1.4, 0.2],\n",
       "       [5.4, 3.9, 1.7, 0.4],\n",
       "       [4.6, 3.4, 1.4, 0.3],\n",
       "       [5. , 3.4, 1.5, 0.2],\n",
       "       [4.4, 2.9, 1.4, 0.2],\n",
       "       [4.9, 3.1, 1.5, 0.1],\n",
       "       [5.4, 3.7, 1.5, 0.2],\n",
       "       [4.8, 3.4, 1.6, 0.2],\n",
       "       [4.8, 3. , 1.4, 0.1],\n",
       "       [4.3, 3. , 1.1, 0.1],\n",
       "       [5.8, 4. , 1.2, 0.2],\n",
       "       [5.7, 4.4, 1.5, 0.4],\n",
       "       [5.4, 3.9, 1.3, 0.4],\n",
       "       [5.1, 3.5, 1.4, 0.3],\n",
       "       [5.7, 3.8, 1.7, 0.3],\n",
       "       [5.1, 3.8, 1.5, 0.3],\n",
       "       [5.4, 3.4, 1.7, 0.2],\n",
       "       [5.1, 3.7, 1.5, 0.4],\n",
       "       [4.6, 3.6, 1. , 0.2],\n",
       "       [5.1, 3.3, 1.7, 0.5],\n",
       "       [4.8, 3.4, 1.9, 0.2],\n",
       "       [5. , 3. , 1.6, 0.2],\n",
       "       [5. , 3.4, 1.6, 0.4],\n",
       "       [5.2, 3.5, 1.5, 0.2],\n",
       "       [5.2, 3.4, 1.4, 0.2],\n",
       "       [4.7, 3.2, 1.6, 0.2],\n",
       "       [4.8, 3.1, 1.6, 0.2],\n",
       "       [5.4, 3.4, 1.5, 0.4],\n",
       "       [5.2, 4.1, 1.5, 0.1],\n",
       "       [5.5, 4.2, 1.4, 0.2],\n",
       "       [4.9, 3.1, 1.5, 0.2],\n",
       "       [5. , 3.2, 1.2, 0.2],\n",
       "       [5.5, 3.5, 1.3, 0.2],\n",
       "       [4.9, 3.6, 1.4, 0.1],\n",
       "       [4.4, 3. , 1.3, 0.2],\n",
       "       [5.1, 3.4, 1.5, 0.2],\n",
       "       [5. , 3.5, 1.3, 0.3],\n",
       "       [4.5, 2.3, 1.3, 0.3],\n",
       "       [4.4, 3.2, 1.3, 0.2],\n",
       "       [5. , 3.5, 1.6, 0.6],\n",
       "       [5.1, 3.8, 1.9, 0.4],\n",
       "       [4.8, 3. , 1.4, 0.3],\n",
       "       [5.1, 3.8, 1.6, 0.2],\n",
       "       [4.6, 3.2, 1.4, 0.2],\n",
       "       [5.3, 3.7, 1.5, 0.2],\n",
       "       [5. , 3.3, 1.4, 0.2],\n",
       "       [7. , 3.2, 4.7, 1.4],\n",
       "       [6.4, 3.2, 4.5, 1.5],\n",
       "       [6.9, 3.1, 4.9, 1.5],\n",
       "       [5.5, 2.3, 4. , 1.3],\n",
       "       [6.5, 2.8, 4.6, 1.5],\n",
       "       [5.7, 2.8, 4.5, 1.3],\n",
       "       [6.3, 3.3, 4.7, 1.6],\n",
       "       [4.9, 2.4, 3.3, 1. ],\n",
       "       [6.6, 2.9, 4.6, 1.3],\n",
       "       [5.2, 2.7, 3.9, 1.4],\n",
       "       [5. , 2. , 3.5, 1. ],\n",
       "       [5.9, 3. , 4.2, 1.5],\n",
       "       [6. , 2.2, 4. , 1. ],\n",
       "       [6.1, 2.9, 4.7, 1.4],\n",
       "       [5.6, 2.9, 3.6, 1.3],\n",
       "       [6.7, 3.1, 4.4, 1.4],\n",
       "       [5.6, 3. , 4.5, 1.5],\n",
       "       [5.8, 2.7, 4.1, 1. ],\n",
       "       [6.2, 2.2, 4.5, 1.5],\n",
       "       [5.6, 2.5, 3.9, 1.1],\n",
       "       [5.9, 3.2, 4.8, 1.8],\n",
       "       [6.1, 2.8, 4. , 1.3],\n",
       "       [6.3, 2.5, 4.9, 1.5],\n",
       "       [6.1, 2.8, 4.7, 1.2],\n",
       "       [6.4, 2.9, 4.3, 1.3],\n",
       "       [6.6, 3. , 4.4, 1.4],\n",
       "       [6.8, 2.8, 4.8, 1.4],\n",
       "       [6.7, 3. , 5. , 1.7],\n",
       "       [6. , 2.9, 4.5, 1.5],\n",
       "       [5.7, 2.6, 3.5, 1. ],\n",
       "       [5.5, 2.4, 3.8, 1.1],\n",
       "       [5.5, 2.4, 3.7, 1. ],\n",
       "       [5.8, 2.7, 3.9, 1.2],\n",
       "       [6. , 2.7, 5.1, 1.6],\n",
       "       [5.4, 3. , 4.5, 1.5],\n",
       "       [6. , 3.4, 4.5, 1.6],\n",
       "       [6.7, 3.1, 4.7, 1.5],\n",
       "       [6.3, 2.3, 4.4, 1.3],\n",
       "       [5.6, 3. , 4.1, 1.3],\n",
       "       [5.5, 2.5, 4. , 1.3],\n",
       "       [5.5, 2.6, 4.4, 1.2],\n",
       "       [6.1, 3. , 4.6, 1.4],\n",
       "       [5.8, 2.6, 4. , 1.2],\n",
       "       [5. , 2.3, 3.3, 1. ],\n",
       "       [5.6, 2.7, 4.2, 1.3],\n",
       "       [5.7, 3. , 4.2, 1.2],\n",
       "       [5.7, 2.9, 4.2, 1.3],\n",
       "       [6.2, 2.9, 4.3, 1.3],\n",
       "       [5.1, 2.5, 3. , 1.1],\n",
       "       [5.7, 2.8, 4.1, 1.3],\n",
       "       [6.3, 3.3, 6. , 2.5],\n",
       "       [5.8, 2.7, 5.1, 1.9],\n",
       "       [7.1, 3. , 5.9, 2.1],\n",
       "       [6.3, 2.9, 5.6, 1.8],\n",
       "       [6.5, 3. , 5.8, 2.2],\n",
       "       [7.6, 3. , 6.6, 2.1],\n",
       "       [4.9, 2.5, 4.5, 1.7],\n",
       "       [7.3, 2.9, 6.3, 1.8],\n",
       "       [6.7, 2.5, 5.8, 1.8],\n",
       "       [7.2, 3.6, 6.1, 2.5],\n",
       "       [6.5, 3.2, 5.1, 2. ],\n",
       "       [6.4, 2.7, 5.3, 1.9],\n",
       "       [6.8, 3. , 5.5, 2.1],\n",
       "       [5.7, 2.5, 5. , 2. ],\n",
       "       [5.8, 2.8, 5.1, 2.4],\n",
       "       [6.4, 3.2, 5.3, 2.3],\n",
       "       [6.5, 3. , 5.5, 1.8],\n",
       "       [7.7, 3.8, 6.7, 2.2],\n",
       "       [7.7, 2.6, 6.9, 2.3],\n",
       "       [6. , 2.2, 5. , 1.5],\n",
       "       [6.9, 3.2, 5.7, 2.3],\n",
       "       [5.6, 2.8, 4.9, 2. ],\n",
       "       [7.7, 2.8, 6.7, 2. ],\n",
       "       [6.3, 2.7, 4.9, 1.8],\n",
       "       [6.7, 3.3, 5.7, 2.1],\n",
       "       [7.2, 3.2, 6. , 1.8],\n",
       "       [6.2, 2.8, 4.8, 1.8],\n",
       "       [6.1, 3. , 4.9, 1.8],\n",
       "       [6.4, 2.8, 5.6, 2.1],\n",
       "       [7.2, 3. , 5.8, 1.6],\n",
       "       [7.4, 2.8, 6.1, 1.9],\n",
       "       [7.9, 3.8, 6.4, 2. ],\n",
       "       [6.4, 2.8, 5.6, 2.2],\n",
       "       [6.3, 2.8, 5.1, 1.5],\n",
       "       [6.1, 2.6, 5.6, 1.4],\n",
       "       [7.7, 3. , 6.1, 2.3],\n",
       "       [6.3, 3.4, 5.6, 2.4],\n",
       "       [6.4, 3.1, 5.5, 1.8],\n",
       "       [6. , 3. , 4.8, 1.8],\n",
       "       [6.9, 3.1, 5.4, 2.1],\n",
       "       [6.7, 3.1, 5.6, 2.4],\n",
       "       [6.9, 3.1, 5.1, 2.3],\n",
       "       [5.8, 2.7, 5.1, 1.9],\n",
       "       [6.8, 3.2, 5.9, 2.3],\n",
       "       [6.7, 3.3, 5.7, 2.5],\n",
       "       [6.7, 3. , 5.2, 2.3],\n",
       "       [6.3, 2.5, 5. , 1.9],\n",
       "       [6.5, 3. , 5.2, 2. ],\n",
       "       [6.2, 3.4, 5.4, 2.3],\n",
       "       [5.9, 3. , 5.1, 1.8]])"
      ]
     },
     "execution_count": 2,
     "metadata": {},
     "output_type": "execute_result"
    }
   ],
   "source": [
    "iris['data']"
   ]
  },
  {
   "cell_type": "markdown",
   "metadata": {},
   "source": [
    "Notamos que este es un arreglo de ancho 4, que corresponden al ancho y largo de los sépalos y pétalos. Para saber cuál es cuál vamos a ver el nombre de las `features`:"
   ]
  },
  {
   "cell_type": "code",
   "execution_count": 3,
   "metadata": {},
   "outputs": [
    {
     "data": {
      "text/plain": [
       "['sepal length (cm)',\n",
       " 'sepal width (cm)',\n",
       " 'petal length (cm)',\n",
       " 'petal width (cm)']"
      ]
     },
     "execution_count": 3,
     "metadata": {},
     "output_type": "execute_result"
    }
   ],
   "source": [
    "iris.feature_names"
   ]
  },
  {
   "cell_type": "markdown",
   "metadata": {},
   "source": [
    "**Observación**: podemos entender un *feature* como un posible *input* que va a recibir el modelo que vamos a entrenar."
   ]
  },
  {
   "cell_type": "markdown",
   "metadata": {},
   "source": [
    "Ahora comprendemos que la primera columna es el largo del sépalo, la segunda es el ancho del sépalo, la tercera es el largo del pétalo y la última el ancho del pétalo. También tenemos que filtrar el *dataset* para quedarnos solamente con las filas que corresponden a flores Iris Setosa:"
   ]
  },
  {
   "cell_type": "code",
   "execution_count": 4,
   "metadata": {},
   "outputs": [
    {
     "data": {
      "text/plain": [
       "array(['setosa', 'versicolor', 'virginica'], dtype='<U10')"
      ]
     },
     "execution_count": 4,
     "metadata": {},
     "output_type": "execute_result"
    }
   ],
   "source": [
    "iris.target_names"
   ]
  },
  {
   "cell_type": "code",
   "execution_count": 5,
   "metadata": {},
   "outputs": [
    {
     "data": {
      "text/plain": [
       "array([0, 0, 0, 0, 0, 0, 0, 0, 0, 0, 0, 0, 0, 0, 0, 0, 0, 0, 0, 0, 0, 0,\n",
       "       0, 0, 0, 0, 0, 0, 0, 0, 0, 0, 0, 0, 0, 0, 0, 0, 0, 0, 0, 0, 0, 0,\n",
       "       0, 0, 0, 0, 0, 0, 1, 1, 1, 1, 1, 1, 1, 1, 1, 1, 1, 1, 1, 1, 1, 1,\n",
       "       1, 1, 1, 1, 1, 1, 1, 1, 1, 1, 1, 1, 1, 1, 1, 1, 1, 1, 1, 1, 1, 1,\n",
       "       1, 1, 1, 1, 1, 1, 1, 1, 1, 1, 1, 1, 2, 2, 2, 2, 2, 2, 2, 2, 2, 2,\n",
       "       2, 2, 2, 2, 2, 2, 2, 2, 2, 2, 2, 2, 2, 2, 2, 2, 2, 2, 2, 2, 2, 2,\n",
       "       2, 2, 2, 2, 2, 2, 2, 2, 2, 2, 2, 2, 2, 2, 2, 2, 2, 2])"
      ]
     },
     "execution_count": 5,
     "metadata": {},
     "output_type": "execute_result"
    }
   ],
   "source": [
    "iris.target"
   ]
  },
  {
   "cell_type": "markdown",
   "metadata": {},
   "source": [
    "Aquí vemos que las primeras 50 columnas de nuestros datos corresponden a flores Iris Setosa (que es el elemento 0 de la lista en `target_names`. Con lo que ya aprendimos de numpy ahora vamos a filtrar los datos:"
   ]
  },
  {
   "cell_type": "code",
   "execution_count": 6,
   "metadata": {},
   "outputs": [
    {
     "data": {
      "text/plain": [
       "array([[5.1, 3.5, 1.4, 0.2],\n",
       "       [4.9, 3. , 1.4, 0.2],\n",
       "       [4.7, 3.2, 1.3, 0.2],\n",
       "       [4.6, 3.1, 1.5, 0.2],\n",
       "       [5. , 3.6, 1.4, 0.2],\n",
       "       [5.4, 3.9, 1.7, 0.4],\n",
       "       [4.6, 3.4, 1.4, 0.3],\n",
       "       [5. , 3.4, 1.5, 0.2],\n",
       "       [4.4, 2.9, 1.4, 0.2],\n",
       "       [4.9, 3.1, 1.5, 0.1],\n",
       "       [5.4, 3.7, 1.5, 0.2],\n",
       "       [4.8, 3.4, 1.6, 0.2],\n",
       "       [4.8, 3. , 1.4, 0.1],\n",
       "       [4.3, 3. , 1.1, 0.1],\n",
       "       [5.8, 4. , 1.2, 0.2],\n",
       "       [5.7, 4.4, 1.5, 0.4],\n",
       "       [5.4, 3.9, 1.3, 0.4],\n",
       "       [5.1, 3.5, 1.4, 0.3],\n",
       "       [5.7, 3.8, 1.7, 0.3],\n",
       "       [5.1, 3.8, 1.5, 0.3],\n",
       "       [5.4, 3.4, 1.7, 0.2],\n",
       "       [5.1, 3.7, 1.5, 0.4],\n",
       "       [4.6, 3.6, 1. , 0.2],\n",
       "       [5.1, 3.3, 1.7, 0.5],\n",
       "       [4.8, 3.4, 1.9, 0.2],\n",
       "       [5. , 3. , 1.6, 0.2],\n",
       "       [5. , 3.4, 1.6, 0.4],\n",
       "       [5.2, 3.5, 1.5, 0.2],\n",
       "       [5.2, 3.4, 1.4, 0.2],\n",
       "       [4.7, 3.2, 1.6, 0.2],\n",
       "       [4.8, 3.1, 1.6, 0.2],\n",
       "       [5.4, 3.4, 1.5, 0.4],\n",
       "       [5.2, 4.1, 1.5, 0.1],\n",
       "       [5.5, 4.2, 1.4, 0.2],\n",
       "       [4.9, 3.1, 1.5, 0.2],\n",
       "       [5. , 3.2, 1.2, 0.2],\n",
       "       [5.5, 3.5, 1.3, 0.2],\n",
       "       [4.9, 3.6, 1.4, 0.1],\n",
       "       [4.4, 3. , 1.3, 0.2],\n",
       "       [5.1, 3.4, 1.5, 0.2],\n",
       "       [5. , 3.5, 1.3, 0.3],\n",
       "       [4.5, 2.3, 1.3, 0.3],\n",
       "       [4.4, 3.2, 1.3, 0.2],\n",
       "       [5. , 3.5, 1.6, 0.6],\n",
       "       [5.1, 3.8, 1.9, 0.4],\n",
       "       [4.8, 3. , 1.4, 0.3],\n",
       "       [5.1, 3.8, 1.6, 0.2],\n",
       "       [4.6, 3.2, 1.4, 0.2],\n",
       "       [5.3, 3.7, 1.5, 0.2],\n",
       "       [5. , 3.3, 1.4, 0.2]])"
      ]
     },
     "execution_count": 6,
     "metadata": {},
     "output_type": "execute_result"
    }
   ],
   "source": [
    "# Arreglo de 4 columnas de flores Iris Setosa\n",
    "iris_setosa = iris['data'][iris['target'] == 0]\n",
    "iris_setosa"
   ]
  },
  {
   "cell_type": "markdown",
   "metadata": {},
   "source": [
    "Ahora vamos a explorar visualmente los datos de la Iris Setosa. Recordemos que queremos predecir el largo del sépalo, que es la primera columna. Así que vamos a graficar el largo del pétalo en función de cada otra columna:"
   ]
  },
  {
   "cell_type": "code",
   "execution_count": 7,
   "metadata": {},
   "outputs": [],
   "source": [
    "# A esta altura ya deberías haber instalado matplotlib\n",
    "# Si no es así recuerda instalar la librería con pip\n",
    "\n",
    "import matplotlib.pyplot as plt\n",
    "\n",
    "# Filtramos la primera columna del dataset\n",
    "setosa_sepal_length = iris_setosa[:, [True, False, False, False]]\n",
    "\n",
    "# Filtramos para las otras columnas\n",
    "setosa_sepal_width = iris_setosa[:, [False, True, False, False]]\n",
    "setosa_petal_length = iris_setosa[:, [False, False, True, False]]\n",
    "setosa_petal_width = iris_setosa[:, [False, False, False, True]]"
   ]
  },
  {
   "cell_type": "code",
   "execution_count": 9,
   "metadata": {},
   "outputs": [
    {
     "data": {
      "image/png": "[encoded data removed]",
      "text/plain": [
       "<Figure size 432x288 with 1 Axes>"
      ]
     },
     "metadata": {},
     "output_type": "display_data"
    }
   ],
   "source": [
    "fig = plt.figure()\n",
    "ax = fig.add_axes([0,0,1,1])\n",
    "ax.scatter(setosa_sepal_width, setosa_sepal_length)\n",
    "ax.set_xlabel('Ancho del Sépalo')\n",
    "ax.set_ylabel('Largo del Sépalo')\n",
    "plt.show()"
   ]
  },
  {
   "cell_type": "code",
   "execution_count": 10,
   "metadata": {},
   "outputs": [
    {
     "data": {
      "image/png": "[encoded data removed]",
      "text/plain": [
       "<Figure size 432x288 with 1 Axes>"
      ]
     },
     "metadata": {},
     "output_type": "display_data"
    }
   ],
   "source": [
    "fig = plt.figure()\n",
    "ax = fig.add_axes([0,0,1,1])\n",
    "ax.scatter(setosa_petal_length, setosa_sepal_length)\n",
    "ax.set_xlabel('Largo del Pétalo')\n",
    "ax.set_ylabel('Largo del Sépalo')\n",
    "plt.show()"
   ]
  },
  {
   "cell_type": "code",
   "execution_count": 11,
   "metadata": {},
   "outputs": [
    {
     "data": {
      "image/png": "[encoded data removed]",
      "text/plain": [
       "<Figure size 432x288 with 1 Axes>"
      ]
     },
     "metadata": {},
     "output_type": "display_data"
    }
   ],
   "source": [
    "fig = plt.figure()\n",
    "ax = fig.add_axes([0,0,1,1])\n",
    "ax.scatter(setosa_petal_width, setosa_sepal_length)\n",
    "ax.set_xlabel('Ancho del Pétalo')\n",
    "ax.set_ylabel('Largo del Sépalo')\n",
    "plt.show()"
   ]
  },
  {
   "cell_type": "markdown",
   "metadata": {},
   "source": [
    "Visualmente podemos ver que el largo del sépalo parece estar relacionado al ancho del sépalo. Para explorar mejor esta idea vamos a buscar correlaciones. Haremos esto gracias a las funciones que nos provee `pandas`, pero tendremos que cargar los datos como un `DataFrame`:"
   ]
  },
  {
   "cell_type": "code",
   "execution_count": 12,
   "metadata": {},
   "outputs": [
    {
     "data": {
      "text/html": [
       "<div>\n",
       "<style scoped>\n",
       "    .dataframe tbody tr th:only-of-type {\n",
       "        vertical-align: middle;\n",
       "    }\n",
       "\n",
       "    .dataframe tbody tr th {\n",
       "        vertical-align: top;\n",
       "    }\n",
       "\n",
       "    .dataframe thead th {\n",
       "        text-align: right;\n",
       "    }\n",
       "</style>\n",
       "<table border=\"1\" class=\"dataframe\">\n",
       "  <thead>\n",
       "    <tr style=\"text-align: right;\">\n",
       "      <th></th>\n",
       "      <th>sepal length (cm)</th>\n",
       "      <th>sepal width (cm)</th>\n",
       "      <th>petal length (cm)</th>\n",
       "      <th>petal width (cm)</th>\n",
       "    </tr>\n",
       "  </thead>\n",
       "  <tbody>\n",
       "    <tr>\n",
       "      <th>0</th>\n",
       "      <td>5.1</td>\n",
       "      <td>3.5</td>\n",
       "      <td>1.4</td>\n",
       "      <td>0.2</td>\n",
       "    </tr>\n",
       "    <tr>\n",
       "      <th>1</th>\n",
       "      <td>4.9</td>\n",
       "      <td>3.0</td>\n",
       "      <td>1.4</td>\n",
       "      <td>0.2</td>\n",
       "    </tr>\n",
       "    <tr>\n",
       "      <th>2</th>\n",
       "      <td>4.7</td>\n",
       "      <td>3.2</td>\n",
       "      <td>1.3</td>\n",
       "      <td>0.2</td>\n",
       "    </tr>\n",
       "    <tr>\n",
       "      <th>3</th>\n",
       "      <td>4.6</td>\n",
       "      <td>3.1</td>\n",
       "      <td>1.5</td>\n",
       "      <td>0.2</td>\n",
       "    </tr>\n",
       "    <tr>\n",
       "      <th>4</th>\n",
       "      <td>5.0</td>\n",
       "      <td>3.6</td>\n",
       "      <td>1.4</td>\n",
       "      <td>0.2</td>\n",
       "    </tr>\n",
       "    <tr>\n",
       "      <th>5</th>\n",
       "      <td>5.4</td>\n",
       "      <td>3.9</td>\n",
       "      <td>1.7</td>\n",
       "      <td>0.4</td>\n",
       "    </tr>\n",
       "    <tr>\n",
       "      <th>6</th>\n",
       "      <td>4.6</td>\n",
       "      <td>3.4</td>\n",
       "      <td>1.4</td>\n",
       "      <td>0.3</td>\n",
       "    </tr>\n",
       "    <tr>\n",
       "      <th>7</th>\n",
       "      <td>5.0</td>\n",
       "      <td>3.4</td>\n",
       "      <td>1.5</td>\n",
       "      <td>0.2</td>\n",
       "    </tr>\n",
       "    <tr>\n",
       "      <th>8</th>\n",
       "      <td>4.4</td>\n",
       "      <td>2.9</td>\n",
       "      <td>1.4</td>\n",
       "      <td>0.2</td>\n",
       "    </tr>\n",
       "    <tr>\n",
       "      <th>9</th>\n",
       "      <td>4.9</td>\n",
       "      <td>3.1</td>\n",
       "      <td>1.5</td>\n",
       "      <td>0.1</td>\n",
       "    </tr>\n",
       "    <tr>\n",
       "      <th>10</th>\n",
       "      <td>5.4</td>\n",
       "      <td>3.7</td>\n",
       "      <td>1.5</td>\n",
       "      <td>0.2</td>\n",
       "    </tr>\n",
       "    <tr>\n",
       "      <th>11</th>\n",
       "      <td>4.8</td>\n",
       "      <td>3.4</td>\n",
       "      <td>1.6</td>\n",
       "      <td>0.2</td>\n",
       "    </tr>\n",
       "    <tr>\n",
       "      <th>12</th>\n",
       "      <td>4.8</td>\n",
       "      <td>3.0</td>\n",
       "      <td>1.4</td>\n",
       "      <td>0.1</td>\n",
       "    </tr>\n",
       "    <tr>\n",
       "      <th>13</th>\n",
       "      <td>4.3</td>\n",
       "      <td>3.0</td>\n",
       "      <td>1.1</td>\n",
       "      <td>0.1</td>\n",
       "    </tr>\n",
       "    <tr>\n",
       "      <th>14</th>\n",
       "      <td>5.8</td>\n",
       "      <td>4.0</td>\n",
       "      <td>1.2</td>\n",
       "      <td>0.2</td>\n",
       "    </tr>\n",
       "    <tr>\n",
       "      <th>15</th>\n",
       "      <td>5.7</td>\n",
       "      <td>4.4</td>\n",
       "      <td>1.5</td>\n",
       "      <td>0.4</td>\n",
       "    </tr>\n",
       "    <tr>\n",
       "      <th>16</th>\n",
       "      <td>5.4</td>\n",
       "      <td>3.9</td>\n",
       "      <td>1.3</td>\n",
       "      <td>0.4</td>\n",
       "    </tr>\n",
       "    <tr>\n",
       "      <th>17</th>\n",
       "      <td>5.1</td>\n",
       "      <td>3.5</td>\n",
       "      <td>1.4</td>\n",
       "      <td>0.3</td>\n",
       "    </tr>\n",
       "    <tr>\n",
       "      <th>18</th>\n",
       "      <td>5.7</td>\n",
       "      <td>3.8</td>\n",
       "      <td>1.7</td>\n",
       "      <td>0.3</td>\n",
       "    </tr>\n",
       "    <tr>\n",
       "      <th>19</th>\n",
       "      <td>5.1</td>\n",
       "      <td>3.8</td>\n",
       "      <td>1.5</td>\n",
       "      <td>0.3</td>\n",
       "    </tr>\n",
       "    <tr>\n",
       "      <th>20</th>\n",
       "      <td>5.4</td>\n",
       "      <td>3.4</td>\n",
       "      <td>1.7</td>\n",
       "      <td>0.2</td>\n",
       "    </tr>\n",
       "    <tr>\n",
       "      <th>21</th>\n",
       "      <td>5.1</td>\n",
       "      <td>3.7</td>\n",
       "      <td>1.5</td>\n",
       "      <td>0.4</td>\n",
       "    </tr>\n",
       "    <tr>\n",
       "      <th>22</th>\n",
       "      <td>4.6</td>\n",
       "      <td>3.6</td>\n",
       "      <td>1.0</td>\n",
       "      <td>0.2</td>\n",
       "    </tr>\n",
       "    <tr>\n",
       "      <th>23</th>\n",
       "      <td>5.1</td>\n",
       "      <td>3.3</td>\n",
       "      <td>1.7</td>\n",
       "      <td>0.5</td>\n",
       "    </tr>\n",
       "    <tr>\n",
       "      <th>24</th>\n",
       "      <td>4.8</td>\n",
       "      <td>3.4</td>\n",
       "      <td>1.9</td>\n",
       "      <td>0.2</td>\n",
       "    </tr>\n",
       "    <tr>\n",
       "      <th>25</th>\n",
       "      <td>5.0</td>\n",
       "      <td>3.0</td>\n",
       "      <td>1.6</td>\n",
       "      <td>0.2</td>\n",
       "    </tr>\n",
       "    <tr>\n",
       "      <th>26</th>\n",
       "      <td>5.0</td>\n",
       "      <td>3.4</td>\n",
       "      <td>1.6</td>\n",
       "      <td>0.4</td>\n",
       "    </tr>\n",
       "    <tr>\n",
       "      <th>27</th>\n",
       "      <td>5.2</td>\n",
       "      <td>3.5</td>\n",
       "      <td>1.5</td>\n",
       "      <td>0.2</td>\n",
       "    </tr>\n",
       "    <tr>\n",
       "      <th>28</th>\n",
       "      <td>5.2</td>\n",
       "      <td>3.4</td>\n",
       "      <td>1.4</td>\n",
       "      <td>0.2</td>\n",
       "    </tr>\n",
       "    <tr>\n",
       "      <th>29</th>\n",
       "      <td>4.7</td>\n",
       "      <td>3.2</td>\n",
       "      <td>1.6</td>\n",
       "      <td>0.2</td>\n",
       "    </tr>\n",
       "    <tr>\n",
       "      <th>30</th>\n",
       "      <td>4.8</td>\n",
       "      <td>3.1</td>\n",
       "      <td>1.6</td>\n",
       "      <td>0.2</td>\n",
       "    </tr>\n",
       "    <tr>\n",
       "      <th>31</th>\n",
       "      <td>5.4</td>\n",
       "      <td>3.4</td>\n",
       "      <td>1.5</td>\n",
       "      <td>0.4</td>\n",
       "    </tr>\n",
       "    <tr>\n",
       "      <th>32</th>\n",
       "      <td>5.2</td>\n",
       "      <td>4.1</td>\n",
       "      <td>1.5</td>\n",
       "      <td>0.1</td>\n",
       "    </tr>\n",
       "    <tr>\n",
       "      <th>33</th>\n",
       "      <td>5.5</td>\n",
       "      <td>4.2</td>\n",
       "      <td>1.4</td>\n",
       "      <td>0.2</td>\n",
       "    </tr>\n",
       "    <tr>\n",
       "      <th>34</th>\n",
       "      <td>4.9</td>\n",
       "      <td>3.1</td>\n",
       "      <td>1.5</td>\n",
       "      <td>0.2</td>\n",
       "    </tr>\n",
       "    <tr>\n",
       "      <th>35</th>\n",
       "      <td>5.0</td>\n",
       "      <td>3.2</td>\n",
       "      <td>1.2</td>\n",
       "      <td>0.2</td>\n",
       "    </tr>\n",
       "    <tr>\n",
       "      <th>36</th>\n",
       "      <td>5.5</td>\n",
       "      <td>3.5</td>\n",
       "      <td>1.3</td>\n",
       "      <td>0.2</td>\n",
       "    </tr>\n",
       "    <tr>\n",
       "      <th>37</th>\n",
       "      <td>4.9</td>\n",
       "      <td>3.6</td>\n",
       "      <td>1.4</td>\n",
       "      <td>0.1</td>\n",
       "    </tr>\n",
       "    <tr>\n",
       "      <th>38</th>\n",
       "      <td>4.4</td>\n",
       "      <td>3.0</td>\n",
       "      <td>1.3</td>\n",
       "      <td>0.2</td>\n",
       "    </tr>\n",
       "    <tr>\n",
       "      <th>39</th>\n",
       "      <td>5.1</td>\n",
       "      <td>3.4</td>\n",
       "      <td>1.5</td>\n",
       "      <td>0.2</td>\n",
       "    </tr>\n",
       "    <tr>\n",
       "      <th>40</th>\n",
       "      <td>5.0</td>\n",
       "      <td>3.5</td>\n",
       "      <td>1.3</td>\n",
       "      <td>0.3</td>\n",
       "    </tr>\n",
       "    <tr>\n",
       "      <th>41</th>\n",
       "      <td>4.5</td>\n",
       "      <td>2.3</td>\n",
       "      <td>1.3</td>\n",
       "      <td>0.3</td>\n",
       "    </tr>\n",
       "    <tr>\n",
       "      <th>42</th>\n",
       "      <td>4.4</td>\n",
       "      <td>3.2</td>\n",
       "      <td>1.3</td>\n",
       "      <td>0.2</td>\n",
       "    </tr>\n",
       "    <tr>\n",
       "      <th>43</th>\n",
       "      <td>5.0</td>\n",
       "      <td>3.5</td>\n",
       "      <td>1.6</td>\n",
       "      <td>0.6</td>\n",
       "    </tr>\n",
       "    <tr>\n",
       "      <th>44</th>\n",
       "      <td>5.1</td>\n",
       "      <td>3.8</td>\n",
       "      <td>1.9</td>\n",
       "      <td>0.4</td>\n",
       "    </tr>\n",
       "    <tr>\n",
       "      <th>45</th>\n",
       "      <td>4.8</td>\n",
       "      <td>3.0</td>\n",
       "      <td>1.4</td>\n",
       "      <td>0.3</td>\n",
       "    </tr>\n",
       "    <tr>\n",
       "      <th>46</th>\n",
       "      <td>5.1</td>\n",
       "      <td>3.8</td>\n",
       "      <td>1.6</td>\n",
       "      <td>0.2</td>\n",
       "    </tr>\n",
       "    <tr>\n",
       "      <th>47</th>\n",
       "      <td>4.6</td>\n",
       "      <td>3.2</td>\n",
       "      <td>1.4</td>\n",
       "      <td>0.2</td>\n",
       "    </tr>\n",
       "    <tr>\n",
       "      <th>48</th>\n",
       "      <td>5.3</td>\n",
       "      <td>3.7</td>\n",
       "      <td>1.5</td>\n",
       "      <td>0.2</td>\n",
       "    </tr>\n",
       "    <tr>\n",
       "      <th>49</th>\n",
       "      <td>5.0</td>\n",
       "      <td>3.3</td>\n",
       "      <td>1.4</td>\n",
       "      <td>0.2</td>\n",
       "    </tr>\n",
       "  </tbody>\n",
       "</table>\n",
       "</div>"
      ],
      "text/plain": [
       "    sepal length (cm)  sepal width (cm)  petal length (cm)  petal width (cm)\n",
       "0                 5.1               3.5                1.4               0.2\n",
       "1                 4.9               3.0                1.4               0.2\n",
       "2                 4.7               3.2                1.3               0.2\n",
       "3                 4.6               3.1                1.5               0.2\n",
       "4                 5.0               3.6                1.4               0.2\n",
       "5                 5.4               3.9                1.7               0.4\n",
       "6                 4.6               3.4                1.4               0.3\n",
       "7                 5.0               3.4                1.5               0.2\n",
       "8                 4.4               2.9                1.4               0.2\n",
       "9                 4.9               3.1                1.5               0.1\n",
       "10                5.4               3.7                1.5               0.2\n",
       "11                4.8               3.4                1.6               0.2\n",
       "12                4.8               3.0                1.4               0.1\n",
       "13                4.3               3.0                1.1               0.1\n",
       "14                5.8               4.0                1.2               0.2\n",
       "15                5.7               4.4                1.5               0.4\n",
       "16                5.4               3.9                1.3               0.4\n",
       "17                5.1               3.5                1.4               0.3\n",
       "18                5.7               3.8                1.7               0.3\n",
       "19                5.1               3.8                1.5               0.3\n",
       "20                5.4               3.4                1.7               0.2\n",
       "21                5.1               3.7                1.5               0.4\n",
       "22                4.6               3.6                1.0               0.2\n",
       "23                5.1               3.3                1.7               0.5\n",
       "24                4.8               3.4                1.9               0.2\n",
       "25                5.0               3.0                1.6               0.2\n",
       "26                5.0               3.4                1.6               0.4\n",
       "27                5.2               3.5                1.5               0.2\n",
       "28                5.2               3.4                1.4               0.2\n",
       "29                4.7               3.2                1.6               0.2\n",
       "30                4.8               3.1                1.6               0.2\n",
       "31                5.4               3.4                1.5               0.4\n",
       "32                5.2               4.1                1.5               0.1\n",
       "33                5.5               4.2                1.4               0.2\n",
       "34                4.9               3.1                1.5               0.2\n",
       "35                5.0               3.2                1.2               0.2\n",
       "36                5.5               3.5                1.3               0.2\n",
       "37                4.9               3.6                1.4               0.1\n",
       "38                4.4               3.0                1.3               0.2\n",
       "39                5.1               3.4                1.5               0.2\n",
       "40                5.0               3.5                1.3               0.3\n",
       "41                4.5               2.3                1.3               0.3\n",
       "42                4.4               3.2                1.3               0.2\n",
       "43                5.0               3.5                1.6               0.6\n",
       "44                5.1               3.8                1.9               0.4\n",
       "45                4.8               3.0                1.4               0.3\n",
       "46                5.1               3.8                1.6               0.2\n",
       "47                4.6               3.2                1.4               0.2\n",
       "48                5.3               3.7                1.5               0.2\n",
       "49                5.0               3.3                1.4               0.2"
      ]
     },
     "execution_count": 12,
     "metadata": {},
     "output_type": "execute_result"
    }
   ],
   "source": [
    "import pandas as pd\n",
    "\n",
    "df_setosa = pd.DataFrame(iris_setosa, columns=iris.feature_names)\n",
    "df_setosa"
   ]
  },
  {
   "cell_type": "markdown",
   "metadata": {},
   "source": [
    "Ahora usamos el método `corr()` sobre el dataframe para buscar las correlaciones:"
   ]
  },
  {
   "cell_type": "code",
   "execution_count": 14,
   "metadata": {},
   "outputs": [
    {
     "data": {
      "text/plain": [
       "sepal length (cm)    1.000000\n",
       "sepal width (cm)     0.742547\n",
       "petal width (cm)     0.278098\n",
       "petal length (cm)    0.267176\n",
       "Name: sepal length (cm), dtype: float64"
      ]
     },
     "execution_count": 14,
     "metadata": {},
     "output_type": "execute_result"
    }
   ],
   "source": [
    "corr_matrix = df_setosa.corr()\n",
    "corr_matrix['sepal length (cm)'].sort_values(ascending=False)"
   ]
  },
  {
   "cell_type": "markdown",
   "metadata": {},
   "source": [
    "Aquí encontramos un resultado muy interesante. La correlación entre el ancho y el largo del sépalo es bastante alta. Por lo tanto, vamos a hacer una regresión lineal que en el eje $X$ tiene el ancho del pétalo y en el eje $Y$ tiene el largo."
   ]
  },
  {
   "cell_type": "markdown",
   "metadata": {},
   "source": [
    "## Entrenando y probando nuestro modelo\n",
    "\n",
    "Tenemos 50 registros que nos indican el ancho y largo del sépalo (la verdad no son tantos, pero para está actividad va a estar bien). Así que haremos algo muy común en el área de *Machine Learning*: vamos a separar nuestros datos en un set de entrenamiento y un set de prueba. \n",
    "\n",
    "La idea es escoger aleatoriamente un pequeño grupo de datos y lo vamos a separar. Este será nuestro set de prueba. Los otros datos, que sería el set de entrenamiento, lo vamos a utilizar para hacer la regresión lineal (es decir, encontrar la recta que que se ajusta mejor). Luego, para cada ancho de sépalo del set de prueba, vamos a \"predecir\" su largo con la regresión. Como conocemos la respuesta correcta, vamos a ir calculando el *mean squared error* para nuestro programa. Para esto vamos a usar una función de la librería `scikit-learn`."
   ]
  },
  {
   "cell_type": "code",
   "execution_count": 15,
   "metadata": {},
   "outputs": [],
   "source": [
    "from sklearn.model_selection import train_test_split\n",
    "\n",
    "# La primera columna es el largo del sépalo y la segunda el ancho del sépalo\n",
    "setosa_sepal_data = iris_setosa[:, [True, True, False, False]]\n",
    "\n",
    "# Queremos un set de prueba del 15% del tamaño\n",
    "train_set, test_set = train_test_split(setosa_sepal_data, test_size=0.15)"
   ]
  },
  {
   "cell_type": "markdown",
   "metadata": {},
   "source": [
    "Primero imprimiremos el set de entrenamiento:"
   ]
  },
  {
   "cell_type": "code",
   "execution_count": 16,
   "metadata": {},
   "outputs": [
    {
     "data": {
      "text/plain": [
       "array([[5.3, 3.7],\n",
       "       [4.6, 3.1],\n",
       "       [4.4, 2.9],\n",
       "       [5. , 3.6],\n",
       "       [5.4, 3.4],\n",
       "       [5. , 3.2],\n",
       "       [5.1, 3.7],\n",
       "       [5.1, 3.8],\n",
       "       [5.7, 4.4],\n",
       "       [5.1, 3.5],\n",
       "       [4.3, 3. ],\n",
       "       [4.9, 3.6],\n",
       "       [4.8, 3.4],\n",
       "       [5. , 3.4],\n",
       "       [5.1, 3.3],\n",
       "       [4.5, 2.3],\n",
       "       [5. , 3. ],\n",
       "       [5. , 3.3],\n",
       "       [4.9, 3.1],\n",
       "       [5. , 3.5],\n",
       "       [4.8, 3.1],\n",
       "       [4.9, 3. ],\n",
       "       [5.4, 3.4],\n",
       "       [4.6, 3.6],\n",
       "       [5.1, 3.4],\n",
       "       [4.9, 3.1],\n",
       "       [5.1, 3.8],\n",
       "       [5.4, 3.9],\n",
       "       [4.4, 3. ],\n",
       "       [5.2, 4.1],\n",
       "       [5.7, 3.8],\n",
       "       [5.5, 4.2],\n",
       "       [5. , 3.5],\n",
       "       [4.6, 3.2],\n",
       "       [4.7, 3.2],\n",
       "       [4.7, 3.2],\n",
       "       [5.2, 3.5],\n",
       "       [4.6, 3.4],\n",
       "       [5.1, 3.5],\n",
       "       [4.8, 3.4],\n",
       "       [5.8, 4. ],\n",
       "       [5.4, 3.7]])"
      ]
     },
     "execution_count": 16,
     "metadata": {},
     "output_type": "execute_result"
    }
   ],
   "source": [
    "train_set"
   ]
  },
  {
   "cell_type": "markdown",
   "metadata": {},
   "source": [
    "Y ahora el test de prueba, que notamos que es de tamaño 0.15 respecto al *dataset* original."
   ]
  },
  {
   "cell_type": "code",
   "execution_count": 17,
   "metadata": {},
   "outputs": [
    {
     "data": {
      "text/plain": [
       "array([[4.8, 3. ],\n",
       "       [5.2, 3.4],\n",
       "       [5.4, 3.9],\n",
       "       [4.8, 3. ],\n",
       "       [5.5, 3.5],\n",
       "       [5. , 3.4],\n",
       "       [4.4, 3.2],\n",
       "       [5.1, 3.8]])"
      ]
     },
     "execution_count": 17,
     "metadata": {},
     "output_type": "execute_result"
    }
   ],
   "source": [
    "test_set"
   ]
  },
  {
   "cell_type": "markdown",
   "metadata": {},
   "source": [
    "Ahora llegamos al momento de la verdad: **vamos a entrenar un modelo de regresión lineal usando `scikit-learn`**. Obviamente hay formas matemáticas de calcular una regresión lineal, pero veremos que cuando los datos son muchos conviene usar técnicas diferentes. `scikit-learn` sabe manejar todo esto por debajo, pero más importante aún es que entiendas la `interfaz` de esta librería.\n",
    "\n",
    "En general, vamos a importar algún modelo de los que ya tiene implementados, enseñarle los datos de prueba como un par $X$, $Y$, donde $X$ son los *input* (en este caso el ancho del sépalo) e $Y$ las respuestas para esos *inputs*. Para \"enseñarle\" al modelo usaremos la función `fit` y luego para predecir la función `predict`."
   ]
  },
  {
   "cell_type": "code",
   "execution_count": 18,
   "metadata": {},
   "outputs": [
    {
     "data": {
      "text/plain": [
       "LinearRegression()"
      ]
     },
     "execution_count": 18,
     "metadata": {},
     "output_type": "execute_result"
    }
   ],
   "source": [
    "from sklearn.linear_model import LinearRegression\n",
    "\n",
    "lin_reg = LinearRegression()\n",
    "\n",
    "# Preparamos un arreglo con el largo del sépalo y otro con el ancho\n",
    "sepal_length_train = train_set[:, [True, False]]\n",
    "sepal_width_train = train_set[:, [False, True]]\n",
    "\n",
    "# Pasamos como primer parámetro el ancho (input)\n",
    "# y como segundo el largo (respuesta)\n",
    "lin_reg.fit(sepal_width_train, sepal_length_train)"
   ]
  },
  {
   "cell_type": "markdown",
   "metadata": {},
   "source": [
    "Muy bien, hemos entrenado nuestro modelo! Ahora vamos a hacer una predicción sobre él. Preguntémosle la medida del largo del sépalo para un ancho de 5 cm:"
   ]
  },
  {
   "cell_type": "code",
   "execution_count": 19,
   "metadata": {},
   "outputs": [
    {
     "data": {
      "text/plain": [
       "array([[6.07883795]])"
      ]
     },
     "execution_count": 19,
     "metadata": {},
     "output_type": "execute_result"
    }
   ],
   "source": [
    "lin_reg.predict([[5]])"
   ]
  },
  {
   "cell_type": "markdown",
   "metadata": {},
   "source": [
    "La respuesta es 6.08 cm, que suena bastante razonable. Aquí hay que hacer una acotación: el parámetro de la función predict es una lista de listas (o arreglo de arreglos), esto es porque podemos pasar hartos *inputs* a la vez, y cada uno de estos tiene más de una dimensión. En este caso estamos entregando solamente un *input* de dimensión 1. Ahora agreguemos la recta al gráfico para ver si hace sentido: "
   ]
  },
  {
   "cell_type": "code",
   "execution_count": 20,
   "metadata": {},
   "outputs": [
    {
     "data": {
      "image/png": "[encoded data removed]",
      "text/plain": [
       "<Figure size 432x288 with 1 Axes>"
      ]
     },
     "metadata": {},
     "output_type": "display_data"
    }
   ],
   "source": [
    "fig = plt.figure()\n",
    "ax = fig.add_axes([0,0,1,1])\n",
    "\n",
    "ax.scatter(setosa_sepal_width, setosa_sepal_length)\n",
    "\n",
    "# Estamos graficando una recta que en el eje X tiene el arreglo setosa_sepal_width\n",
    "# Y en el eje Y agregamos las predicciones para esos valores de X\n",
    "plt.plot(setosa_sepal_width, lin_reg.predict(setosa_sepal_width), color=\"orange\")\n",
    "\n",
    "ax.set_xlabel('Ancho del sépalo')\n",
    "ax.set_ylabel('Largo del Sépalo')\n",
    "plt.show()"
   ]
  },
  {
   "cell_type": "markdown",
   "metadata": {},
   "source": [
    "Ahora usaremos nuestros datos de prueba para entender que tan correcta es nuestra predicción. Para esto vamos a predecir los largos para cada ancho de prueba, y dado que conocemos las respuestas, calcularemos el error medio cuadrado con la función `mean_squared_error` que ya está incluida en `scikit-learn`:"
   ]
  },
  {
   "cell_type": "code",
   "execution_count": 22,
   "metadata": {},
   "outputs": [
    {
     "data": {
      "text/plain": [
       "array([[4.70463753],\n",
       "       [4.97947761],\n",
       "       [5.32302772],\n",
       "       [4.70463753],\n",
       "       [5.04818763],\n",
       "       [4.97947761],\n",
       "       [4.84205757],\n",
       "       [5.2543177 ]])"
      ]
     },
     "execution_count": 22,
     "metadata": {},
     "output_type": "execute_result"
    }
   ],
   "source": [
    "from sklearn.metrics import mean_squared_error\n",
    "\n",
    "# Separamos el lancho del largo del sépalo en los datos de prueba\n",
    "sepal_length_test = test_set[:, [True, False]]\n",
    "sepal_width_test = test_set[:, [False, True]]\n",
    "\n",
    "# Predecimos sobre todos los input y mostramos los resultados\n",
    "length_predictions = lin_reg.predict(sepal_width_test)\n",
    "length_predictions"
   ]
  },
  {
   "cell_type": "code",
   "execution_count": 23,
   "metadata": {},
   "outputs": [
    {
     "data": {
      "text/plain": [
       "0.0620659109739909"
      ]
     },
     "execution_count": 23,
     "metadata": {},
     "output_type": "execute_result"
    }
   ],
   "source": [
    "# Ahora calculamos el error medio cuadrado\n",
    "lin_mse = mean_squared_error(sepal_length_test, length_predictions)\n",
    "lin_mse"
   ]
  },
  {
   "cell_type": "markdown",
   "metadata": {},
   "source": [
    "Para darle más significado a esta respuesta vamos a sacar la raíz cuadrada de este valor:"
   ]
  },
  {
   "cell_type": "code",
   "execution_count": 24,
   "metadata": {},
   "outputs": [
    {
     "data": {
      "text/plain": [
       "0.24913030922388968"
      ]
     },
     "execution_count": 24,
     "metadata": {},
     "output_type": "execute_result"
    }
   ],
   "source": [
    "import numpy as np\n",
    "\n",
    "np.sqrt(lin_mse)"
   ]
  },
  {
   "cell_type": "markdown",
   "metadata": {},
   "source": [
    "Esto nos dice que en promedio estamos desviados 0.24 centímetros en nuestras predicciones. Nada mal considerando el rango en el que se mueven los largos de los sépalos."
   ]
  },
  {
   "cell_type": "markdown",
   "metadata": {},
   "source": [
    "## Una mejor forma de evaluar: *Cross-Validation*\n",
    "\n",
    "Una forma muy recurrente de evaluar algoritmos de *Machine Learning* es usar *Cross-Validation*. La idea es dividir los datos en $X$ partes aleatorias. Luego, cada una de estas partes va a actuar como set de prueba, mientras las $X-1$ partes restantes actuarán como set de entrenamiento. Así, vamos a tener $X$ puntajes distintos. Aquí podemos tener una idea mucha más clara de la *performance* de nuestro modelo."
   ]
  },
  {
   "cell_type": "code",
   "execution_count": 25,
   "metadata": {},
   "outputs": [
    {
     "data": {
      "text/plain": [
       "array([0.19892843, 0.22941432, 0.29391412, 0.32387882, 0.21631628,\n",
       "       0.25585974, 0.25942648, 0.15685852])"
      ]
     },
     "execution_count": 25,
     "metadata": {},
     "output_type": "execute_result"
    }
   ],
   "source": [
    "from sklearn.model_selection import cross_val_score\n",
    "\n",
    "#Instanciamos un modelo\n",
    "lin_reg = LinearRegression()\n",
    "\n",
    "# Volvemos a considerar todas las Iris Setosa\n",
    "sepal_length = setosa_sepal_data[:, [True, False]]\n",
    "sepal_width = setosa_sepal_data[:, [False, True]]\n",
    "\n",
    "# No sirve como parámetro mean_squared_error\n",
    "scores = cross_val_score(lin_reg, sepal_width, sepal_length, scoring='neg_mean_squared_error', cv=8)\n",
    "lin_rmse_scores = np.sqrt(-scores)\n",
    "lin_rmse_scores"
   ]
  },
  {
   "cell_type": "markdown",
   "metadata": {},
   "source": [
    "Finalmente, veamos el promedio y la desviación estándar de estos resultados:"
   ]
  },
  {
   "cell_type": "code",
   "execution_count": 26,
   "metadata": {},
   "outputs": [
    {
     "name": "stdout",
     "output_type": "stream",
     "text": [
      "0.24182458931439554\n",
      "0.04977076296597961\n"
     ]
    }
   ],
   "source": [
    "print(lin_rmse_scores.mean())\n",
    "print(lin_rmse_scores.std())"
   ]
  },
  {
   "cell_type": "markdown",
   "metadata": {},
   "source": [
    "## ¿Y ahora cómo sigo?\n",
    "\n",
    "En este *Notebook* dimos una introducción simple a *Machine Learning* pero que a la vez te permite seguir aprendiendo por tu cuenta. La interfaz de SciKit Learn que utiliza `fit`- `predict` es ampliamente conocida y seguramente vas a encontrar mucha documentación en internet que te va a permitir seguir aprendiendo sobre el tema.\n",
    "\n",
    "Una parte muy importante de esto es entender cuando usar qué modelo, puesto que hay algunos que funcionan muy bien para detección de imagenes, otros para trabajar sobre texto, otros para trabajar sobre predicciones de cuando Adrián va a perder en el Age, etc.\n",
    "\n",
    "A su vez, también tienes que tener en cuenta que no todo problema necesita herramientas de Machine Learning. Quizás una solución menos compleja funcione igual de bien que un algoritmo más sofisticado que te va a tomar más tiempo de desarrollar (por ejemplo, la recolección de datos y la forma de serializarlos siempre es un problema muy complejo!). Además la solución estándar puede servir como baseline para que compares respecto a la solución sofisticada. Como un (Not)Sabio me dijo alguna vez \"Do the unintelligent thing first\".\n",
    "\n",
    "Finalmente, te dejamos una bibliografía que te será de mucha utilidad para seguir por tu cuenta.\n",
    "\n",
    "## Bibliografía\n",
    "\n",
    "- Hands-On Machine Learning with Scikit-Learn, Keras & TensorFlow (Aurélien Géron). Este es un muy buen libro que explica cómo hacer todas estas cosas utilizando herramientas relacionadas con Python. Incluso tiene una muy buena sección de Redes Neuronales.\n",
    "- Machine Learning (Peter Flatch). Este libro habla sobre los modelos estándar de *Machine Learning* desde un punto de vista más teórico, pero bien amigable.\n",
    "- Foundations of Machine Learning (Afshin Rostamizadeh, Ameet Talwalkar & Mehryar Mohri). Este libro te cuenta toda la teoría detrás de los modelos, pero es bien espeso. Si realmente te gusta la teoría y las demostraciones espesas, puedes consultarlo.\n",
    "- [Towards Data Science](https://towardsdatascience.com/). Este blog de Medium tiene muy buen material sobre el tema. Cuando encuentres un tutorial acá, date el tiempo de leerlo y programarlo tú. Puedes intrusear y ver qué cosas de interés encuentras.\n",
    "- [Los videos de redes neuronales de 3Blue1Brown](https://www.youtube.com/playlist?list=PLZHQObOWTQDNU6R1_67000Dx_ZCJB-3pi). Esta serie de videos explica de una forma muy amigable lo que es una red neuronal. Sirven para entender que realmente esto no es complejo y que con lo que sabemos podemos empezar a crear nuestras propias herramientas.\n",
    "- Una vez que conoces los conceptos y vayas manos a la obra, no te olvides de tus buenos amigos Google y StackOverflow."
   ]
  },
  {
   "cell_type": "markdown",
   "metadata": {},
   "source": [
    "### Agradecimientos especiales\n",
    "\n",
    "Además de planificarlo con el profesor Juan Reutter, muchas de las ideas de este notebook vinieron de conversaciones con Nebil Kawas (Aka El Brigadier PewPew) y David Gómez (Aka El General Schuldinero), con quienes formo el *team* con más proyección en el juego Age of Empires II Definitive Edition. Todo esto esto, según las predicciones de una regresión incomprobable."
   ]
  }
 ],
 "metadata": {
  "kernelspec": {
   "display_name": "Python 3",
   "language": "python",
   "name": "python3"
  },
  "language_info": {
   "codemirror_mode": {
    "name": "ipython",
    "version": 3
   },
   "file_extension": ".py",
   "mimetype": "text/x-python",
   "name": "python",
   "nbconvert_exporter": "python",
   "pygments_lexer": "ipython3",
   "version": "3.7.7"
  }
 },
 "nbformat": 4,
 "nbformat_minor": 4
}
